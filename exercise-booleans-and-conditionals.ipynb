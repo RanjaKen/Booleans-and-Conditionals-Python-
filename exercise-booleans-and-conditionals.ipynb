{
 "cells": [
  {
   "cell_type": "markdown",
   "id": "4e979183",
   "metadata": {
    "papermill": {
     "duration": 0.008995,
     "end_time": "2024-09-15T06:47:29.845769",
     "exception": false,
     "start_time": "2024-09-15T06:47:29.836774",
     "status": "completed"
    },
    "tags": []
   },
   "source": [
    "**This notebook is an exercise in the [Python](https://www.kaggle.com/learn/python) course.  You can reference the tutorial at [this link](https://www.kaggle.com/colinmorris/booleans-and-conditionals).**\n",
    "\n",
    "---\n"
   ]
  },
  {
   "cell_type": "markdown",
   "id": "4ab90444",
   "metadata": {
    "papermill": {
     "duration": 0.007962,
     "end_time": "2024-09-15T06:47:29.862153",
     "exception": false,
     "start_time": "2024-09-15T06:47:29.854191",
     "status": "completed"
    },
    "tags": []
   },
   "source": [
    "In this exercise, you'll put to work what you have learned about booleans and conditionals.\n",
    "\n",
    "To get started, **run the setup code below** before writing your own code (and if you leave this notebook and come back later, don't forget to run the setup code again)."
   ]
  },
  {
   "cell_type": "code",
   "execution_count": 1,
   "id": "89713148",
   "metadata": {
    "execution": {
     "iopub.execute_input": "2024-09-15T06:47:29.880920Z",
     "iopub.status.busy": "2024-09-15T06:47:29.880100Z",
     "iopub.status.idle": "2024-09-15T06:47:30.639089Z",
     "shell.execute_reply": "2024-09-15T06:47:30.637866Z"
    },
    "papermill": {
     "duration": 0.770985,
     "end_time": "2024-09-15T06:47:30.641504",
     "exception": false,
     "start_time": "2024-09-15T06:47:29.870519",
     "status": "completed"
    },
    "tags": []
   },
   "outputs": [
    {
     "name": "stdout",
     "output_type": "stream",
     "text": [
      "Setup complete.\n"
     ]
    }
   ],
   "source": [
    "from learntools.core import binder; binder.bind(globals())\n",
    "from learntools.python.ex3 import *\n",
    "print('Setup complete.')"
   ]
  },
  {
   "cell_type": "markdown",
   "id": "6e7d29e4",
   "metadata": {
    "papermill": {
     "duration": 0.008056,
     "end_time": "2024-09-15T06:47:30.658040",
     "exception": false,
     "start_time": "2024-09-15T06:47:30.649984",
     "status": "completed"
    },
    "tags": []
   },
   "source": [
    "# 1.\n",
    "\n",
    "Many programming languages have [`sign`](https://en.wikipedia.org/wiki/Sign_function) available as a built-in function. Python doesn't, but we can define our own!\n",
    "\n",
    "In the cell below, define a function called `sign` which takes a numerical argument and returns -1 if it's negative, 1 if it's positive, and 0 if it's 0."
   ]
  },
  {
   "cell_type": "code",
   "execution_count": 2,
   "id": "321eda75",
   "metadata": {
    "execution": {
     "iopub.execute_input": "2024-09-15T06:47:30.676694Z",
     "iopub.status.busy": "2024-09-15T06:47:30.676116Z",
     "iopub.status.idle": "2024-09-15T06:47:30.690083Z",
     "shell.execute_reply": "2024-09-15T06:47:30.688956Z"
    },
    "papermill": {
     "duration": 0.025826,
     "end_time": "2024-09-15T06:47:30.692288",
     "exception": false,
     "start_time": "2024-09-15T06:47:30.666462",
     "status": "completed"
    },
    "tags": []
   },
   "outputs": [
    {
     "data": {
      "application/javascript": [
       "parent.postMessage({\"jupyterEvent\": \"custom.exercise_interaction\", \"data\": {\"outcomeType\": 1, \"valueTowardsCompletion\": 0.2, \"interactionType\": 1, \"questionType\": 2, \"questionId\": \"1_SignFunctionProblem\", \"learnToolsVersion\": \"0.3.4\", \"failureMessage\": \"\", \"exceptionClass\": \"\", \"trace\": \"\"}}, \"*\")"
      ],
      "text/plain": [
       "<IPython.core.display.Javascript object>"
      ]
     },
     "metadata": {},
     "output_type": "display_data"
    },
    {
     "data": {
      "text/markdown": [
       "<span style=\"color:#33cc33\">Correct</span>"
      ],
      "text/plain": [
       "Correct"
      ]
     },
     "metadata": {},
     "output_type": "display_data"
    }
   ],
   "source": [
    "# Your code goes here. Define a function called 'sign'\n",
    "def sign(n):\n",
    "    if n==0 :\n",
    "        return 0\n",
    "    elif n<0 :\n",
    "        return -1\n",
    "    elif n>0:\n",
    "        return 1\n",
    "   \n",
    "    \n",
    "\n",
    "# Check your answer\n",
    "q1.check()"
   ]
  },
  {
   "cell_type": "code",
   "execution_count": 3,
   "id": "97b1905f",
   "metadata": {
    "execution": {
     "iopub.execute_input": "2024-09-15T06:47:30.711901Z",
     "iopub.status.busy": "2024-09-15T06:47:30.711479Z",
     "iopub.status.idle": "2024-09-15T06:47:30.716602Z",
     "shell.execute_reply": "2024-09-15T06:47:30.715291Z"
    },
    "papermill": {
     "duration": 0.017872,
     "end_time": "2024-09-15T06:47:30.719059",
     "exception": false,
     "start_time": "2024-09-15T06:47:30.701187",
     "status": "completed"
    },
    "tags": []
   },
   "outputs": [],
   "source": [
    "#q1.solution()"
   ]
  },
  {
   "cell_type": "markdown",
   "id": "da748d5b",
   "metadata": {
    "papermill": {
     "duration": 0.008467,
     "end_time": "2024-09-15T06:47:30.736530",
     "exception": false,
     "start_time": "2024-09-15T06:47:30.728063",
     "status": "completed"
    },
    "tags": []
   },
   "source": [
    "# 2.\n",
    "\n",
    "We've decided to add \"logging\" to our `to_smash` function from the previous exercise."
   ]
  },
  {
   "cell_type": "code",
   "execution_count": 4,
   "id": "5e7f0058",
   "metadata": {
    "execution": {
     "iopub.execute_input": "2024-09-15T06:47:30.756225Z",
     "iopub.status.busy": "2024-09-15T06:47:30.755304Z",
     "iopub.status.idle": "2024-09-15T06:47:30.764089Z",
     "shell.execute_reply": "2024-09-15T06:47:30.762899Z"
    },
    "papermill": {
     "duration": 0.021323,
     "end_time": "2024-09-15T06:47:30.766545",
     "exception": false,
     "start_time": "2024-09-15T06:47:30.745222",
     "status": "completed"
    },
    "tags": []
   },
   "outputs": [
    {
     "name": "stdout",
     "output_type": "stream",
     "text": [
      "Splitting 91 candies\n"
     ]
    },
    {
     "data": {
      "text/plain": [
       "1"
      ]
     },
     "execution_count": 4,
     "metadata": {},
     "output_type": "execute_result"
    }
   ],
   "source": [
    "def to_smash(total_candies):\n",
    "    \"\"\"Return the number of leftover candies that must be smashed after distributing\n",
    "    the given number of candies evenly between 3 friends.\n",
    "    \n",
    "    >>> to_smash(91)\n",
    "    1\n",
    "    \"\"\"\n",
    "    print(\"Splitting\", total_candies, \"candies\")\n",
    "    return total_candies % 3\n",
    "\n",
    "to_smash(91)"
   ]
  },
  {
   "cell_type": "markdown",
   "id": "6e35d524",
   "metadata": {
    "papermill": {
     "duration": 0.008498,
     "end_time": "2024-09-15T06:47:30.784049",
     "exception": false,
     "start_time": "2024-09-15T06:47:30.775551",
     "status": "completed"
    },
    "tags": []
   },
   "source": [
    "What happens if we call it with `total_candies = 1`?"
   ]
  },
  {
   "cell_type": "code",
   "execution_count": 5,
   "id": "52e95963",
   "metadata": {
    "execution": {
     "iopub.execute_input": "2024-09-15T06:47:30.804167Z",
     "iopub.status.busy": "2024-09-15T06:47:30.803185Z",
     "iopub.status.idle": "2024-09-15T06:47:30.810857Z",
     "shell.execute_reply": "2024-09-15T06:47:30.809671Z"
    },
    "papermill": {
     "duration": 0.020322,
     "end_time": "2024-09-15T06:47:30.813404",
     "exception": false,
     "start_time": "2024-09-15T06:47:30.793082",
     "status": "completed"
    },
    "tags": []
   },
   "outputs": [
    {
     "name": "stdout",
     "output_type": "stream",
     "text": [
      "Splitting 1 candies\n"
     ]
    },
    {
     "data": {
      "text/plain": [
       "1"
      ]
     },
     "execution_count": 5,
     "metadata": {},
     "output_type": "execute_result"
    }
   ],
   "source": [
    "to_smash(1)"
   ]
  },
  {
   "cell_type": "markdown",
   "id": "efb567cc",
   "metadata": {
    "papermill": {
     "duration": 0.008624,
     "end_time": "2024-09-15T06:47:30.831219",
     "exception": false,
     "start_time": "2024-09-15T06:47:30.822595",
     "status": "completed"
    },
    "tags": []
   },
   "source": [
    "That isn't great grammar!\n",
    "\n",
    "Modify the definition in the cell below to correct the grammar of our print statement. (If there's only one candy, we should use the singular \"candy\" instead of the plural \"candies\")"
   ]
  },
  {
   "cell_type": "code",
   "execution_count": 6,
   "id": "96787c74",
   "metadata": {
    "execution": {
     "iopub.execute_input": "2024-09-15T06:47:30.851441Z",
     "iopub.status.busy": "2024-09-15T06:47:30.850721Z",
     "iopub.status.idle": "2024-09-15T06:47:30.859115Z",
     "shell.execute_reply": "2024-09-15T06:47:30.857965Z"
    },
    "papermill": {
     "duration": 0.020776,
     "end_time": "2024-09-15T06:47:30.861183",
     "exception": false,
     "start_time": "2024-09-15T06:47:30.840407",
     "status": "completed"
    },
    "tags": []
   },
   "outputs": [
    {
     "name": "stdout",
     "output_type": "stream",
     "text": [
      "Splitting 91 candies\n",
      "Splitting 1 candies\n"
     ]
    },
    {
     "data": {
      "text/plain": [
       "1"
      ]
     },
     "execution_count": 6,
     "metadata": {},
     "output_type": "execute_result"
    }
   ],
   "source": [
    "def to_smash(total_candies):\n",
    "    \"\"\"Return the number of leftover candies that must be smashed after distributing\n",
    "    the given number of candies evenly between 3 friends.\n",
    "    \n",
    "    >>> to_smash(91)\n",
    "    1\n",
    "    \"\"\"\n",
    "    print(\"Splitting\", total_candies, \"candies\")\n",
    "    return total_candies % 3\n",
    "\n",
    "to_smash(91)\n",
    "to_smash(1)"
   ]
  },
  {
   "cell_type": "markdown",
   "id": "73a83247",
   "metadata": {
    "papermill": {
     "duration": 0.008737,
     "end_time": "2024-09-15T06:47:30.879177",
     "exception": false,
     "start_time": "2024-09-15T06:47:30.870440",
     "status": "completed"
    },
    "tags": []
   },
   "source": [
    "To get credit for completing this problem, and to see the official answer, run the code cell below."
   ]
  },
  {
   "cell_type": "code",
   "execution_count": 7,
   "id": "35383b74",
   "metadata": {
    "execution": {
     "iopub.execute_input": "2024-09-15T06:47:30.899216Z",
     "iopub.status.busy": "2024-09-15T06:47:30.898791Z",
     "iopub.status.idle": "2024-09-15T06:47:30.908467Z",
     "shell.execute_reply": "2024-09-15T06:47:30.907205Z"
    },
    "papermill": {
     "duration": 0.02257,
     "end_time": "2024-09-15T06:47:30.910929",
     "exception": false,
     "start_time": "2024-09-15T06:47:30.888359",
     "status": "completed"
    },
    "tags": []
   },
   "outputs": [
    {
     "data": {
      "application/javascript": [
       "parent.postMessage({\"jupyterEvent\": \"custom.exercise_interaction\", \"data\": {\"interactionType\": 3, \"questionType\": 4, \"questionId\": \"2_PluralizationProblem\", \"learnToolsVersion\": \"0.3.4\", \"valueTowardsCompletion\": 0.0, \"failureMessage\": \"\", \"exceptionClass\": \"\", \"trace\": \"\", \"outcomeType\": 4}}, \"*\")"
      ],
      "text/plain": [
       "<IPython.core.display.Javascript object>"
      ]
     },
     "metadata": {},
     "output_type": "display_data"
    },
    {
     "data": {
      "text/markdown": [
       "<span style=\"color:#33cc99\">Solution:</span> A straightforward (and totally fine) solution is to replace the original `print` call with:\n",
       "\n",
       "```python\n",
       "if total_candies == 1:\n",
       "    print(\"Splitting 1 candy\")\n",
       "else:\n",
       "    print(\"Splitting\", total_candies, \"candies\")\n",
       "```\n",
       "\n",
       "Here's a slightly more succinct solution using a conditional expression:\n",
       "\n",
       "```python\n",
       "print(\"Splitting\", total_candies, \"candy\" if total_candies == 1 else \"candies\")\n",
       "```"
      ],
      "text/plain": [
       "Solution: A straightforward (and totally fine) solution is to replace the original `print` call with:\n",
       "\n",
       "```python\n",
       "if total_candies == 1:\n",
       "    print(\"Splitting 1 candy\")\n",
       "else:\n",
       "    print(\"Splitting\", total_candies, \"candies\")\n",
       "```\n",
       "\n",
       "Here's a slightly more succinct solution using a conditional expression:\n",
       "\n",
       "```python\n",
       "print(\"Splitting\", total_candies, \"candy\" if total_candies == 1 else \"candies\")\n",
       "```"
      ]
     },
     "metadata": {},
     "output_type": "display_data"
    }
   ],
   "source": [
    "# Check your answer (Run this code cell to receive credit!)\n",
    "q2.solution()"
   ]
  },
  {
   "cell_type": "markdown",
   "id": "2260754c",
   "metadata": {
    "papermill": {
     "duration": 0.009184,
     "end_time": "2024-09-15T06:47:30.930199",
     "exception": false,
     "start_time": "2024-09-15T06:47:30.921015",
     "status": "completed"
    },
    "tags": []
   },
   "source": [
    "# 3. <span title=\"A bit spicy\" style=\"color: darkgreen \">🌶️</span>\n",
    "\n",
    "In the tutorial, we talked about deciding whether we're prepared for the weather. I said that I'm safe from today's weather if...\n",
    "- I have an umbrella...\n",
    "- or if the rain isn't too heavy and I have a hood...\n",
    "- otherwise, I'm still fine unless it's raining *and* it's a workday\n",
    "\n",
    "The function below uses our first attempt at turning this logic into a Python expression. I claimed that there was a bug in that code. Can you find it?\n",
    "\n",
    "To prove that `prepared_for_weather` is buggy, come up with a set of inputs where either:\n",
    "- the function returns `False` (but should have returned `True`), or\n",
    "- the function returned `True` (but should have returned `False`).\n",
    "\n",
    "To get credit for completing this question, your code should return a <font color='#33cc33'>Correct</font> result."
   ]
  },
  {
   "cell_type": "code",
   "execution_count": 8,
   "id": "5293d98a",
   "metadata": {
    "execution": {
     "iopub.execute_input": "2024-09-15T06:47:30.951297Z",
     "iopub.status.busy": "2024-09-15T06:47:30.950564Z",
     "iopub.status.idle": "2024-09-15T06:47:30.961904Z",
     "shell.execute_reply": "2024-09-15T06:47:30.960936Z"
    },
    "papermill": {
     "duration": 0.024389,
     "end_time": "2024-09-15T06:47:30.964150",
     "exception": false,
     "start_time": "2024-09-15T06:47:30.939761",
     "status": "completed"
    },
    "tags": []
   },
   "outputs": [
    {
     "name": "stdout",
     "output_type": "stream",
     "text": [
      "False\n"
     ]
    },
    {
     "data": {
      "application/javascript": [
       "parent.postMessage({\"jupyterEvent\": \"custom.exercise_interaction\", \"data\": {\"outcomeType\": 1, \"valueTowardsCompletion\": 0.2, \"interactionType\": 1, \"questionType\": 1, \"questionId\": \"3_WeatherDebug\", \"learnToolsVersion\": \"0.3.4\", \"failureMessage\": \"\", \"exceptionClass\": \"\", \"trace\": \"\"}}, \"*\")"
      ],
      "text/plain": [
       "<IPython.core.display.Javascript object>"
      ]
     },
     "metadata": {},
     "output_type": "display_data"
    },
    {
     "data": {
      "text/markdown": [
       "<span style=\"color:#33cc33\">Correct:</span> \n",
       "\n",
       "One example of a failing test case is:\n",
       "\n",
       "```python\n",
       "have_umbrella = False\n",
       "rain_level = 0.0\n",
       "have_hood = False\n",
       "is_workday = False\n",
       "```\n",
       "\n",
       "Clearly we're prepared for the weather in this case. It's not raining. Not only that, it's not a workday, so we don't even need to leave the house! But our function will return False on these inputs.\n",
       "\n",
       "The key problem is that Python implictly parenthesizes the last part as:\n",
       "\n",
       "```python\n",
       "(not (rain_level > 0)) and is_workday\n",
       "```\n",
       "\n",
       "Whereas what we were trying to express would look more like:\n",
       "\n",
       "```python\n",
       "not (rain_level > 0 and is_workday)\n",
       "```\n"
      ],
      "text/plain": [
       "Correct: \n",
       "\n",
       "One example of a failing test case is:\n",
       "\n",
       "```python\n",
       "have_umbrella = False\n",
       "rain_level = 0.0\n",
       "have_hood = False\n",
       "is_workday = False\n",
       "```\n",
       "\n",
       "Clearly we're prepared for the weather in this case. It's not raining. Not only that, it's not a workday, so we don't even need to leave the house! But our function will return False on these inputs.\n",
       "\n",
       "The key problem is that Python implictly parenthesizes the last part as:\n",
       "\n",
       "```python\n",
       "(not (rain_level > 0)) and is_workday\n",
       "```\n",
       "\n",
       "Whereas what we were trying to express would look more like:\n",
       "\n",
       "```python\n",
       "not (rain_level > 0 and is_workday)\n",
       "```"
      ]
     },
     "metadata": {},
     "output_type": "display_data"
    }
   ],
   "source": [
    "def prepared_for_weather(have_umbrella, rain_level, have_hood, is_workday):\n",
    "    # Don't change this code. Our goal is just to find the bug, not fix it!\n",
    "    return have_umbrella or rain_level < 5 and have_hood or not rain_level > 0 and is_workday\n",
    "\n",
    "# Change the values of these inputs so they represent a case where prepared_for_weather\n",
    "# returns the wrong answer.\n",
    "have_umbrella = False\n",
    "rain_level = 0.0\n",
    "have_hood = False \n",
    "is_workday = False \n",
    "\n",
    "# Check what the function returns given the current values of the variables above\n",
    "actual = prepared_for_weather(have_umbrella, rain_level, have_hood, is_workday)\n",
    "print(actual)\n",
    "\n",
    "# Check your answer\n",
    "q3.check()"
   ]
  },
  {
   "cell_type": "code",
   "execution_count": 9,
   "id": "fdf17361",
   "metadata": {
    "execution": {
     "iopub.execute_input": "2024-09-15T06:47:30.985449Z",
     "iopub.status.busy": "2024-09-15T06:47:30.985038Z",
     "iopub.status.idle": "2024-09-15T06:47:30.989370Z",
     "shell.execute_reply": "2024-09-15T06:47:30.988351Z"
    },
    "papermill": {
     "duration": 0.017746,
     "end_time": "2024-09-15T06:47:30.991816",
     "exception": false,
     "start_time": "2024-09-15T06:47:30.974070",
     "status": "completed"
    },
    "tags": []
   },
   "outputs": [],
   "source": [
    "#q3.hint()\n",
    "#q3.solution()"
   ]
  },
  {
   "cell_type": "markdown",
   "id": "feeb73d8",
   "metadata": {
    "papermill": {
     "duration": 0.009868,
     "end_time": "2024-09-15T06:47:31.012059",
     "exception": false,
     "start_time": "2024-09-15T06:47:31.002191",
     "status": "completed"
    },
    "tags": []
   },
   "source": [
    "# 4.\n",
    "\n",
    "The function `is_negative` below is implemented correctly - it returns True if the given number is negative and False otherwise.\n",
    "\n",
    "However, it's more verbose than it needs to be. We can actually reduce the number of lines of code in this function by *75%* while keeping the same behaviour. \n",
    "\n",
    "See if you can come up with an equivalent body that uses just **one line** of code, and put it in the function `concise_is_negative`. (HINT: you don't even need Python's ternary syntax)"
   ]
  },
  {
   "cell_type": "code",
   "execution_count": 10,
   "id": "e13dee1c",
   "metadata": {
    "execution": {
     "iopub.execute_input": "2024-09-15T06:47:31.033936Z",
     "iopub.status.busy": "2024-09-15T06:47:31.033523Z",
     "iopub.status.idle": "2024-09-15T06:47:31.043475Z",
     "shell.execute_reply": "2024-09-15T06:47:31.042365Z"
    },
    "papermill": {
     "duration": 0.023624,
     "end_time": "2024-09-15T06:47:31.045761",
     "exception": false,
     "start_time": "2024-09-15T06:47:31.022137",
     "status": "completed"
    },
    "tags": []
   },
   "outputs": [
    {
     "data": {
      "application/javascript": [
       "parent.postMessage({\"jupyterEvent\": \"custom.exercise_interaction\", \"data\": {\"outcomeType\": 1, \"valueTowardsCompletion\": 0.2, \"interactionType\": 1, \"questionType\": 2, \"questionId\": \"4_ConciseIsNegative\", \"learnToolsVersion\": \"0.3.4\", \"failureMessage\": \"\", \"exceptionClass\": \"\", \"trace\": \"\"}}, \"*\")"
      ],
      "text/plain": [
       "<IPython.core.display.Javascript object>"
      ]
     },
     "metadata": {},
     "output_type": "display_data"
    },
    {
     "data": {
      "text/markdown": [
       "<span style=\"color:#33cc33\">Correct</span>"
      ],
      "text/plain": [
       "Correct"
      ]
     },
     "metadata": {},
     "output_type": "display_data"
    }
   ],
   "source": [
    "def is_negative(number):\n",
    "    if number < 0:\n",
    "        return True\n",
    "    else:\n",
    "        return False\n",
    "\n",
    "def concise_is_negative(number):\n",
    "    pass # Your code goes here (try to keep it to one line!)\n",
    "    return bool(is_negative(number))\n",
    "\n",
    "# Check your answer\n",
    "q4.check()"
   ]
  },
  {
   "cell_type": "code",
   "execution_count": 11,
   "id": "5059182e",
   "metadata": {
    "execution": {
     "iopub.execute_input": "2024-09-15T06:47:31.069365Z",
     "iopub.status.busy": "2024-09-15T06:47:31.068389Z",
     "iopub.status.idle": "2024-09-15T06:47:31.073300Z",
     "shell.execute_reply": "2024-09-15T06:47:31.072071Z"
    },
    "papermill": {
     "duration": 0.019598,
     "end_time": "2024-09-15T06:47:31.075762",
     "exception": false,
     "start_time": "2024-09-15T06:47:31.056164",
     "status": "completed"
    },
    "tags": []
   },
   "outputs": [],
   "source": [
    "#q4.hint()\n",
    "#q4.solution()"
   ]
  },
  {
   "cell_type": "markdown",
   "id": "3d13657a",
   "metadata": {
    "papermill": {
     "duration": 0.009974,
     "end_time": "2024-09-15T06:47:31.096215",
     "exception": false,
     "start_time": "2024-09-15T06:47:31.086241",
     "status": "completed"
    },
    "tags": []
   },
   "source": [
    "# 5a.\n",
    "\n",
    "The boolean variables `ketchup`, `mustard` and `onion` represent whether a customer wants a particular topping on their hot dog. We want to implement a number of boolean functions that correspond to some yes-or-no questions about the customer's order. For example:"
   ]
  },
  {
   "cell_type": "code",
   "execution_count": 12,
   "id": "1237cb70",
   "metadata": {
    "execution": {
     "iopub.execute_input": "2024-09-15T06:47:31.118639Z",
     "iopub.status.busy": "2024-09-15T06:47:31.118161Z",
     "iopub.status.idle": "2024-09-15T06:47:31.123507Z",
     "shell.execute_reply": "2024-09-15T06:47:31.122364Z"
    },
    "papermill": {
     "duration": 0.019189,
     "end_time": "2024-09-15T06:47:31.125803",
     "exception": false,
     "start_time": "2024-09-15T06:47:31.106614",
     "status": "completed"
    },
    "tags": []
   },
   "outputs": [],
   "source": [
    "def onionless(ketchup, mustard, onion):\n",
    "    \"\"\"Return whether the customer doesn't want onions.\n",
    "    \"\"\"\n",
    "    return not onion"
   ]
  },
  {
   "cell_type": "code",
   "execution_count": 13,
   "id": "9787c4f6",
   "metadata": {
    "execution": {
     "iopub.execute_input": "2024-09-15T06:47:31.148440Z",
     "iopub.status.busy": "2024-09-15T06:47:31.147978Z",
     "iopub.status.idle": "2024-09-15T06:47:31.158186Z",
     "shell.execute_reply": "2024-09-15T06:47:31.156984Z"
    },
    "papermill": {
     "duration": 0.024605,
     "end_time": "2024-09-15T06:47:31.160863",
     "exception": false,
     "start_time": "2024-09-15T06:47:31.136258",
     "status": "completed"
    },
    "tags": []
   },
   "outputs": [
    {
     "data": {
      "application/javascript": [
       "parent.postMessage({\"jupyterEvent\": \"custom.exercise_interaction\", \"data\": {\"outcomeType\": 1, \"valueTowardsCompletion\": 0.2, \"interactionType\": 1, \"questionType\": 2, \"questionId\": \"5.1_AllToppings\", \"learnToolsVersion\": \"0.3.4\", \"failureMessage\": \"\", \"exceptionClass\": \"\", \"trace\": \"\"}}, \"*\")"
      ],
      "text/plain": [
       "<IPython.core.display.Javascript object>"
      ]
     },
     "metadata": {},
     "output_type": "display_data"
    },
    {
     "data": {
      "text/markdown": [
       "<span style=\"color:#33cc33\">Correct</span>"
      ],
      "text/plain": [
       "Correct"
      ]
     },
     "metadata": {},
     "output_type": "display_data"
    }
   ],
   "source": [
    "def wants_all_toppings(ketchup, mustard, onion):\n",
    "    \"\"\"Return whether the customer wants \"the works\" (all 3 toppings)\n",
    "    \"\"\"\n",
    "    pass\n",
    "    return ketchup and mustard and onion \n",
    "\n",
    "# Check your answer\n",
    "q5.a.check()"
   ]
  },
  {
   "cell_type": "code",
   "execution_count": 14,
   "id": "746a0b8f",
   "metadata": {
    "execution": {
     "iopub.execute_input": "2024-09-15T06:47:31.184254Z",
     "iopub.status.busy": "2024-09-15T06:47:31.183845Z",
     "iopub.status.idle": "2024-09-15T06:47:31.188831Z",
     "shell.execute_reply": "2024-09-15T06:47:31.187598Z"
    },
    "papermill": {
     "duration": 0.019524,
     "end_time": "2024-09-15T06:47:31.191321",
     "exception": false,
     "start_time": "2024-09-15T06:47:31.171797",
     "status": "completed"
    },
    "tags": []
   },
   "outputs": [],
   "source": [
    "#q5.a.hint()\n",
    "#q5.a.solution()"
   ]
  },
  {
   "cell_type": "markdown",
   "id": "a9f4d063",
   "metadata": {
    "papermill": {
     "duration": 0.010393,
     "end_time": "2024-09-15T06:47:31.212920",
     "exception": false,
     "start_time": "2024-09-15T06:47:31.202527",
     "status": "completed"
    },
    "tags": []
   },
   "source": [
    "# 5b.\n",
    "\n",
    "For the next function, fill in the body to match the English description in the docstring. "
   ]
  },
  {
   "cell_type": "code",
   "execution_count": 15,
   "id": "0a6f874d",
   "metadata": {
    "execution": {
     "iopub.execute_input": "2024-09-15T06:47:31.236133Z",
     "iopub.status.busy": "2024-09-15T06:47:31.235705Z",
     "iopub.status.idle": "2024-09-15T06:47:31.245893Z",
     "shell.execute_reply": "2024-09-15T06:47:31.244571Z"
    },
    "papermill": {
     "duration": 0.024917,
     "end_time": "2024-09-15T06:47:31.248503",
     "exception": false,
     "start_time": "2024-09-15T06:47:31.223586",
     "status": "completed"
    },
    "tags": []
   },
   "outputs": [
    {
     "data": {
      "application/javascript": [
       "parent.postMessage({\"jupyterEvent\": \"custom.exercise_interaction\", \"data\": {\"outcomeType\": 1, \"valueTowardsCompletion\": 0.2, \"interactionType\": 1, \"questionType\": 2, \"questionId\": \"5.2_PlainDog\", \"learnToolsVersion\": \"0.3.4\", \"failureMessage\": \"\", \"exceptionClass\": \"\", \"trace\": \"\"}}, \"*\")"
      ],
      "text/plain": [
       "<IPython.core.display.Javascript object>"
      ]
     },
     "metadata": {},
     "output_type": "display_data"
    },
    {
     "data": {
      "text/markdown": [
       "<span style=\"color:#33cc33\">Correct:</span> \n",
       "\n",
       "One solution looks like:\n",
       "```python\n",
       "return not ketchup and not mustard and not onion\n",
       "```\n",
       "\n",
       "We can also [\"factor out\" the nots](https://en.wikipedia.org/wiki/De_Morgan%27s_laws) to get:\n",
       "\n",
       "```python\n",
       "return not (ketchup or mustard or onion)\n",
       "```"
      ],
      "text/plain": [
       "Correct: \n",
       "\n",
       "One solution looks like:\n",
       "```python\n",
       "return not ketchup and not mustard and not onion\n",
       "```\n",
       "\n",
       "We can also [\"factor out\" the nots](https://en.wikipedia.org/wiki/De_Morgan%27s_laws) to get:\n",
       "\n",
       "```python\n",
       "return not (ketchup or mustard or onion)\n",
       "```"
      ]
     },
     "metadata": {},
     "output_type": "display_data"
    }
   ],
   "source": [
    "def wants_plain_hotdog(ketchup, mustard, onion):\n",
    "    \"\"\"Return whether the customer wants a plain hot dog with no toppings.\n",
    "    \"\"\"\n",
    "    pass\n",
    "    return not (ketchup or mustard or onion)\n",
    "\n",
    "# Check your answer\n",
    "q5.b.check()"
   ]
  },
  {
   "cell_type": "code",
   "execution_count": 16,
   "id": "2f7b5d2d",
   "metadata": {
    "execution": {
     "iopub.execute_input": "2024-09-15T06:47:31.272136Z",
     "iopub.status.busy": "2024-09-15T06:47:31.271694Z",
     "iopub.status.idle": "2024-09-15T06:47:31.276719Z",
     "shell.execute_reply": "2024-09-15T06:47:31.275534Z"
    },
    "papermill": {
     "duration": 0.019825,
     "end_time": "2024-09-15T06:47:31.279331",
     "exception": false,
     "start_time": "2024-09-15T06:47:31.259506",
     "status": "completed"
    },
    "tags": []
   },
   "outputs": [],
   "source": [
    "#q5.b.hint()\n",
    "#q5.b.solution()"
   ]
  },
  {
   "cell_type": "markdown",
   "id": "0df894b1",
   "metadata": {
    "papermill": {
     "duration": 0.010647,
     "end_time": "2024-09-15T06:47:31.300892",
     "exception": false,
     "start_time": "2024-09-15T06:47:31.290245",
     "status": "completed"
    },
    "tags": []
   },
   "source": [
    "# 5c.\n",
    "\n",
    "You know what to do: for the next function, fill in the body to match the English description in the docstring."
   ]
  },
  {
   "cell_type": "code",
   "execution_count": 17,
   "id": "bfff6f08",
   "metadata": {
    "execution": {
     "iopub.execute_input": "2024-09-15T06:47:31.324535Z",
     "iopub.status.busy": "2024-09-15T06:47:31.324047Z",
     "iopub.status.idle": "2024-09-15T06:47:31.334456Z",
     "shell.execute_reply": "2024-09-15T06:47:31.333362Z"
    },
    "papermill": {
     "duration": 0.025066,
     "end_time": "2024-09-15T06:47:31.336859",
     "exception": false,
     "start_time": "2024-09-15T06:47:31.311793",
     "status": "completed"
    },
    "tags": []
   },
   "outputs": [
    {
     "data": {
      "application/javascript": [
       "parent.postMessage({\"jupyterEvent\": \"custom.exercise_interaction\", \"data\": {\"outcomeType\": 1, \"valueTowardsCompletion\": 0.2, \"interactionType\": 1, \"questionType\": 2, \"questionId\": \"5.3_OneSauce\", \"learnToolsVersion\": \"0.3.4\", \"failureMessage\": \"\", \"exceptionClass\": \"\", \"trace\": \"\"}}, \"*\")"
      ],
      "text/plain": [
       "<IPython.core.display.Javascript object>"
      ]
     },
     "metadata": {},
     "output_type": "display_data"
    },
    {
     "data": {
      "text/markdown": [
       "<span style=\"color:#33cc33\">Correct</span>"
      ],
      "text/plain": [
       "Correct"
      ]
     },
     "metadata": {},
     "output_type": "display_data"
    }
   ],
   "source": [
    "def exactly_one_sauce(ketchup, mustard, onion):\n",
    "    \"\"\"Return whether the customer wants either ketchup or mustard, but not both.\n",
    "    (You may be familiar with this operation under the name \"exclusive or\")\n",
    "    \"\"\"\n",
    "    pass\n",
    "    return (ketchup and not mustard) or (not ketchup and mustard)\n",
    "\n",
    "# Check your answer\n",
    "q5.c.check()"
   ]
  },
  {
   "cell_type": "code",
   "execution_count": 18,
   "id": "e2d254c4",
   "metadata": {
    "execution": {
     "iopub.execute_input": "2024-09-15T06:47:31.361479Z",
     "iopub.status.busy": "2024-09-15T06:47:31.360296Z",
     "iopub.status.idle": "2024-09-15T06:47:31.365221Z",
     "shell.execute_reply": "2024-09-15T06:47:31.364286Z"
    },
    "papermill": {
     "duration": 0.019774,
     "end_time": "2024-09-15T06:47:31.367724",
     "exception": false,
     "start_time": "2024-09-15T06:47:31.347950",
     "status": "completed"
    },
    "tags": []
   },
   "outputs": [],
   "source": [
    "#q5.c.hint()\n",
    "#q5.c.solution()"
   ]
  },
  {
   "cell_type": "markdown",
   "id": "410d34e7",
   "metadata": {
    "papermill": {
     "duration": 0.010792,
     "end_time": "2024-09-15T06:47:31.389703",
     "exception": false,
     "start_time": "2024-09-15T06:47:31.378911",
     "status": "completed"
    },
    "tags": []
   },
   "source": [
    "# 6. <span title=\"A bit spicy\" style=\"color: darkgreen \">🌶️</span>\n",
    "\n",
    "We’ve seen that calling `bool()` on an integer returns `False` if it’s equal to 0 and `True` otherwise. What happens if we call `int()` on a bool? Try it out in the notebook cell below.\n",
    "\n",
    "Can you take advantage of this to write a succinct function that corresponds to the English sentence \"does the customer want exactly one topping?\"?"
   ]
  },
  {
   "cell_type": "code",
   "execution_count": 19,
   "id": "ef7bbebe",
   "metadata": {
    "execution": {
     "iopub.execute_input": "2024-09-15T06:47:31.414124Z",
     "iopub.status.busy": "2024-09-15T06:47:31.413103Z",
     "iopub.status.idle": "2024-09-15T06:47:31.424059Z",
     "shell.execute_reply": "2024-09-15T06:47:31.422756Z"
    },
    "papermill": {
     "duration": 0.025856,
     "end_time": "2024-09-15T06:47:31.426597",
     "exception": false,
     "start_time": "2024-09-15T06:47:31.400741",
     "status": "completed"
    },
    "tags": []
   },
   "outputs": [
    {
     "data": {
      "application/javascript": [
       "parent.postMessage({\"jupyterEvent\": \"custom.exercise_interaction\", \"data\": {\"outcomeType\": 1, \"valueTowardsCompletion\": 0.2, \"interactionType\": 1, \"questionType\": 2, \"questionId\": \"6_OneTopping\", \"learnToolsVersion\": \"0.3.4\", \"failureMessage\": \"\", \"exceptionClass\": \"\", \"trace\": \"\"}}, \"*\")"
      ],
      "text/plain": [
       "<IPython.core.display.Javascript object>"
      ]
     },
     "metadata": {},
     "output_type": "display_data"
    },
    {
     "data": {
      "text/markdown": [
       "<span style=\"color:#33cc33\">Correct:</span> \n",
       "\n",
       "This condition would be pretty complicated to express using just `and`, `or` and `not`, but using boolean-to-integer conversion gives us this short solution:\n",
       "```python\n",
       "return (int(ketchup) + int(mustard) + int(onion)) == 1\n",
       "```\n",
       "\n",
       "Fun fact: we don't technically need to call `int` on the arguments. Just by doing addition with booleans, Python implicitly does the integer conversion. So we could also write...\n",
       "\n",
       "```python\n",
       "return (ketchup + mustard + onion) == 1\n",
       "```"
      ],
      "text/plain": [
       "Correct: \n",
       "\n",
       "This condition would be pretty complicated to express using just `and`, `or` and `not`, but using boolean-to-integer conversion gives us this short solution:\n",
       "```python\n",
       "return (int(ketchup) + int(mustard) + int(onion)) == 1\n",
       "```\n",
       "\n",
       "Fun fact: we don't technically need to call `int` on the arguments. Just by doing addition with booleans, Python implicitly does the integer conversion. So we could also write...\n",
       "\n",
       "```python\n",
       "return (ketchup + mustard + onion) == 1\n",
       "```"
      ]
     },
     "metadata": {},
     "output_type": "display_data"
    }
   ],
   "source": [
    "def exactly_one_topping(ketchup, mustard, onion):\n",
    "    \"\"\"Return whether the customer wants exactly one of the three available toppings\n",
    "    on their hot dog.\n",
    "    \"\"\"\n",
    "    pass\n",
    "    return (ketchup + mustard + onion) == 1\n",
    "\n",
    "# Check your answer\n",
    "q6.check()"
   ]
  },
  {
   "cell_type": "code",
   "execution_count": 20,
   "id": "273d6a48",
   "metadata": {
    "execution": {
     "iopub.execute_input": "2024-09-15T06:47:31.451359Z",
     "iopub.status.busy": "2024-09-15T06:47:31.450883Z",
     "iopub.status.idle": "2024-09-15T06:47:31.455925Z",
     "shell.execute_reply": "2024-09-15T06:47:31.454741Z"
    },
    "papermill": {
     "duration": 0.020391,
     "end_time": "2024-09-15T06:47:31.458435",
     "exception": false,
     "start_time": "2024-09-15T06:47:31.438044",
     "status": "completed"
    },
    "tags": []
   },
   "outputs": [],
   "source": [
    "#q6.hint()\n",
    "#q6.solution()"
   ]
  },
  {
   "cell_type": "markdown",
   "id": "10e52517",
   "metadata": {
    "papermill": {
     "duration": 0.011619,
     "end_time": "2024-09-15T06:47:31.481660",
     "exception": false,
     "start_time": "2024-09-15T06:47:31.470041",
     "status": "completed"
    },
    "tags": []
   },
   "source": [
    "# 7. <span title=\"A bit spicy\" style=\"color: darkgreen \">🌶️</span> (Optional)\n",
    "\n",
    "In this problem we'll be working with a simplified version of [blackjack](https://en.wikipedia.org/wiki/Blackjack) (aka twenty-one). In this version there is one player (who you'll control) and a dealer. Play proceeds as follows:\n",
    "\n",
    "- The player is dealt two face-up cards. The dealer is dealt one face-up card.\n",
    "- The player may ask to be dealt another card ('hit') as many times as they wish. If the sum of their cards exceeds 21, they lose the round immediately.\n",
    "- The dealer then deals additional cards to himself until either:\n",
    "    - the sum of the dealer's cards exceeds 21, in which case the player wins the round\n",
    "    - the sum of the dealer's cards is greater than or equal to 17. If the player's total is greater than the dealer's, the player wins. Otherwise, the dealer wins (even in case of a tie).\n",
    "    \n",
    "When calculating the sum of cards, Jack, Queen, and King count for 10. Aces can count as 1 or 11 (when referring to a player's \"total\" above, we mean the largest total that can be made without exceeding 21. So e.g. A+8 = 19, A+8+8 = 17)\n",
    "\n",
    "For this problem, you'll write a function representing the player's decision-making strategy in this game. We've provided a very unintelligent implementation below:"
   ]
  },
  {
   "cell_type": "code",
   "execution_count": 21,
   "id": "4129f31d",
   "metadata": {
    "execution": {
     "iopub.execute_input": "2024-09-15T06:47:31.506139Z",
     "iopub.status.busy": "2024-09-15T06:47:31.505732Z",
     "iopub.status.idle": "2024-09-15T06:47:31.511467Z",
     "shell.execute_reply": "2024-09-15T06:47:31.510250Z"
    },
    "papermill": {
     "duration": 0.021303,
     "end_time": "2024-09-15T06:47:31.514194",
     "exception": false,
     "start_time": "2024-09-15T06:47:31.492891",
     "status": "completed"
    },
    "tags": []
   },
   "outputs": [],
   "source": [
    "def should_hit(dealer_total, player_total, player_low_aces, player_high_aces):\n",
    "    \"\"\"Return True if the player should hit (request another card) given the current game\n",
    "    state, or False if the player should stay.\n",
    "    When calculating a hand's total value, we count aces as \"high\" (with value 11) if doing so\n",
    "    doesn't bring the total above 21, otherwise we count them as low (with value 1). \n",
    "    For example, if the player's hand is {A, A, A, 7}, we will count it as 11 + 1 + 1 + 7,\n",
    "    and therefore set player_total=20, player_low_aces=2, player_high_aces=1.\n",
    "    \"\"\"\n",
    "    return False"
   ]
  },
  {
   "cell_type": "markdown",
   "id": "b4233d95",
   "metadata": {
    "papermill": {
     "duration": 0.011265,
     "end_time": "2024-09-15T06:47:31.536885",
     "exception": false,
     "start_time": "2024-09-15T06:47:31.525620",
     "status": "completed"
    },
    "tags": []
   },
   "source": [
    "This very conservative agent *always* sticks with the hand of two cards that they're dealt.\n",
    "\n",
    "We'll be simulating games between your player agent and our own dealer agent by calling your function.\n",
    "\n",
    "Try running the function below to see an example of a simulated game:"
   ]
  },
  {
   "cell_type": "code",
   "execution_count": 22,
   "id": "60a52b91",
   "metadata": {
    "execution": {
     "iopub.execute_input": "2024-09-15T06:47:31.562032Z",
     "iopub.status.busy": "2024-09-15T06:47:31.561608Z",
     "iopub.status.idle": "2024-09-15T06:47:31.567603Z",
     "shell.execute_reply": "2024-09-15T06:47:31.566609Z"
    },
    "papermill": {
     "duration": 0.021339,
     "end_time": "2024-09-15T06:47:31.569891",
     "exception": false,
     "start_time": "2024-09-15T06:47:31.548552",
     "status": "completed"
    },
    "tags": []
   },
   "outputs": [
    {
     "name": "stdout",
     "output_type": "stream",
     "text": [
      "Player starts with K and 9 (total = 19)\n",
      "Dealer starts with 3\n",
      "\n",
      "__Player's turn__\n",
      "Player stays\n",
      "\n",
      "__Dealer's turn__\n",
      "Dealer hits and receives 3. (total = 6)\n",
      "Dealer hits and receives 9. (total = 15)\n",
      "Dealer hits and receives K. (total = 25)\n",
      "Dealer busts! Player wins.\n"
     ]
    }
   ],
   "source": [
    "q7.simulate_one_game()"
   ]
  },
  {
   "cell_type": "markdown",
   "id": "94288ef1",
   "metadata": {
    "papermill": {
     "duration": 0.011574,
     "end_time": "2024-09-15T06:47:31.593059",
     "exception": false,
     "start_time": "2024-09-15T06:47:31.581485",
     "status": "completed"
    },
    "tags": []
   },
   "source": [
    "The real test of your agent's mettle is their average win rate over many games. Try calling the function below to simulate 50000 games of blackjack (it may take a couple seconds):"
   ]
  },
  {
   "cell_type": "code",
   "execution_count": 23,
   "id": "631461b3",
   "metadata": {
    "execution": {
     "iopub.execute_input": "2024-09-15T06:47:31.618459Z",
     "iopub.status.busy": "2024-09-15T06:47:31.618005Z",
     "iopub.status.idle": "2024-09-15T06:47:32.989675Z",
     "shell.execute_reply": "2024-09-15T06:47:32.988568Z"
    },
    "papermill": {
     "duration": 1.386864,
     "end_time": "2024-09-15T06:47:32.991999",
     "exception": false,
     "start_time": "2024-09-15T06:47:31.605135",
     "status": "completed"
    },
    "tags": []
   },
   "outputs": [
    {
     "name": "stdout",
     "output_type": "stream",
     "text": [
      "Player won 19057 out of 50000 games (win rate = 38.1%)\n"
     ]
    }
   ],
   "source": [
    "q7.simulate(n_games=50000)"
   ]
  },
  {
   "cell_type": "markdown",
   "id": "f92f19bf",
   "metadata": {
    "papermill": {
     "duration": 0.011163,
     "end_time": "2024-09-15T06:47:33.014748",
     "exception": false,
     "start_time": "2024-09-15T06:47:33.003585",
     "status": "completed"
    },
    "tags": []
   },
   "source": [
    "Our dumb agent that completely ignores the game state still manages to win shockingly often!\n",
    "\n",
    "Try adding some more smarts to the `should_hit` function and see how it affects the results."
   ]
  },
  {
   "cell_type": "code",
   "execution_count": 24,
   "id": "5b7dcfbb",
   "metadata": {
    "execution": {
     "iopub.execute_input": "2024-09-15T06:47:33.039852Z",
     "iopub.status.busy": "2024-09-15T06:47:33.039012Z",
     "iopub.status.idle": "2024-09-15T06:47:34.391855Z",
     "shell.execute_reply": "2024-09-15T06:47:34.390471Z"
    },
    "papermill": {
     "duration": 1.368126,
     "end_time": "2024-09-15T06:47:34.394417",
     "exception": false,
     "start_time": "2024-09-15T06:47:33.026291",
     "status": "completed"
    },
    "tags": []
   },
   "outputs": [
    {
     "name": "stdout",
     "output_type": "stream",
     "text": [
      "Player won 18888 out of 50000 games (win rate = 37.8%)\n"
     ]
    }
   ],
   "source": [
    "def should_hit(dealer_total, player_total, player_low_aces, player_high_aces):\n",
    "    \"\"\"Return True if the player should hit (request another card) given the current game\n",
    "    state, or False if the player should stay.\n",
    "    When calculating a hand's total value, we count aces as \"high\" (with value 11) if doing so\n",
    "    doesn't bring the total above 21, otherwise we count them as low (with value 1). \n",
    "    For example, if the player's hand is {A, A, A, 7}, we will count it as 11 + 1 + 1 + 7,\n",
    "    and therefore set player_total=20, player_low_aces=2, player_high_aces=1.\n",
    "    \"\"\"\n",
    "    return False\n",
    "\n",
    "q7.simulate(n_games=50000)"
   ]
  },
  {
   "cell_type": "markdown",
   "id": "312206eb",
   "metadata": {
    "papermill": {
     "duration": 0.011303,
     "end_time": "2024-09-15T06:47:34.417714",
     "exception": false,
     "start_time": "2024-09-15T06:47:34.406411",
     "status": "completed"
    },
    "tags": []
   },
   "source": [
    "# Keep Going\n",
    "\n",
    "Learn about **[lists and tuples](https://www.kaggle.com/colinmorris/lists)** to handle multiple items of data in a systematic way."
   ]
  },
  {
   "cell_type": "markdown",
   "id": "cda7d289",
   "metadata": {
    "papermill": {
     "duration": 0.011108,
     "end_time": "2024-09-15T06:47:34.440158",
     "exception": false,
     "start_time": "2024-09-15T06:47:34.429050",
     "status": "completed"
    },
    "tags": []
   },
   "source": [
    "---\n",
    "\n",
    "\n",
    "\n",
    "\n",
    "*Have questions or comments? Visit the [course discussion forum](https://www.kaggle.com/learn/python/discussion) to chat with other learners.*"
   ]
  }
 ],
 "metadata": {
  "kaggle": {
   "accelerator": "none",
   "dataSources": [],
   "isGpuEnabled": false,
   "isInternetEnabled": false,
   "language": "python",
   "sourceType": "notebook"
  },
  "kernelspec": {
   "display_name": "Python 3",
   "language": "python",
   "name": "python3"
  },
  "language_info": {
   "codemirror_mode": {
    "name": "ipython",
    "version": 3
   },
   "file_extension": ".py",
   "mimetype": "text/x-python",
   "name": "python",
   "nbconvert_exporter": "python",
   "pygments_lexer": "ipython3",
   "version": "3.10.14"
  },
  "learntools_metadata": {
   "lesson_index": 2,
   "type": "exercise"
  },
  "papermill": {
   "default_parameters": {},
   "duration": 8.089029,
   "end_time": "2024-09-15T06:47:34.972560",
   "environment_variables": {},
   "exception": null,
   "input_path": "__notebook__.ipynb",
   "output_path": "__notebook__.ipynb",
   "parameters": {},
   "start_time": "2024-09-15T06:47:26.883531",
   "version": "2.6.0"
  }
 },
 "nbformat": 4,
 "nbformat_minor": 5
}
